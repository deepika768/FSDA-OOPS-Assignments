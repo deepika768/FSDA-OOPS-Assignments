{
 "cells": [
  {
   "cell_type": "markdown",
   "id": "b0456e32",
   "metadata": {},
   "source": [
    "# 1 What is the primary goal of object-oriented programming(OOP)?"
   ]
  },
  {
   "cell_type": "markdown",
   "id": "684ae35f",
   "metadata": {},
   "source": [
    "The primary goal of Object-Oriented Programming (OOP) is to reduce complexity in software development, making it easier to build and scale large software programs. OOP organizes software design around data, or objects, rather than functions logic."
   ]
  },
  {
   "cell_type": "markdown",
   "id": "cad22087",
   "metadata": {},
   "source": [
    "# 2.What is an object in Python?"
   ]
  },
  {
   "cell_type": "markdown",
   "id": "32812199",
   "metadata": {},
   "source": [
    "An object is instance of class .\n",
    "Object consists of :-\n",
    "    state-It is represented by the attributes of an object. It also          reflects the properties of an object.\n",
    "    behaviour-It is represented by the methods of an object. It also reflects the response of an object to other objects.\n",
    "    identity-It gives a unique name to an object and enables one object to interact with other objects"
   ]
  },
  {
   "cell_type": "markdown",
   "id": "75b2d342",
   "metadata": {},
   "source": [
    "# 3.What is a class in python?"
   ]
  },
  {
   "cell_type": "markdown",
   "id": "b21a2233",
   "metadata": {},
   "source": [
    "A class is a user-defined blueprint or prototype from which objects are created. Classes provide a means of bundling data and functionality together. "
   ]
  },
  {
   "cell_type": "markdown",
   "id": "74579149",
   "metadata": {},
   "source": [
    "# 4. What are attributes and methods in a class?"
   ]
  },
  {
   "cell_type": "markdown",
   "id": "2d2f1fee",
   "metadata": {},
   "source": [
    "Attributes are nothing but class variabels that are declared inside the class.\n",
    "Methods are functions iside the class.Methods define behaviour of a class. A method contains logic which is executed when the method is invoked"
   ]
  },
  {
   "cell_type": "markdown",
   "id": "dfccaed2",
   "metadata": {},
   "source": [
    "# 5.What is the difference between class variables and instance variables in Python?"
   ]
  },
  {
   "cell_type": "markdown",
   "id": "90766853",
   "metadata": {},
   "source": [
    "Class Variable-Declared inside the class definition (but outside any of the instance methods). They are not tied to any particular object of the class, hence shared across all the objects of the class. Modifying a class variable affects all objects instance at the same time.\n",
    "\n",
    "Instance Variable - Declared inside the constructor method of class (the __init__ method). They are tied to the particular object instance of the class, hence the contents of an instance variable are completely independent from one object instance to the other."
   ]
  },
  {
   "cell_type": "markdown",
   "id": "94eabe8b",
   "metadata": {},
   "source": [
    "# 6. What is the purpose of the self parameter in Python class methods?"
   ]
  },
  {
   "cell_type": "markdown",
   "id": "3e95357f",
   "metadata": {},
   "source": [
    "self represents the instance of the class. By using the “self”  we can access the attributes and methods of the class in python. It binds the attributes with the given arguments"
   ]
  },
  {
   "cell_type": "markdown",
   "id": "4d5b9552",
   "metadata": {},
   "source": [
    "### 7. For a library management system, you have to design the \"Book\" class with OOPprinciples in mind. The “Book” class will have following attributes:\n",
    "a. title: Represents the title of the book.\n",
    "b. author: Represents the author(s) of the book.\n",
    "c. isbn: Represents the ISBN (International Standard Book Number) of the book.\n",
    "d. publication_year: Represents the year of publication of the book.\n",
    "e. available_copies: Represents the number of copies available for checkout.\n",
    "The class will also include the following methods:\n",
    "a. check_out(self): Decrements the available copies by one if there are copies\n",
    "available for checkout.\n",
    "b. return_book(self): Increments the available copies by one when a book is\n",
    "returned.\n",
    "c. display_book_info(self): Displays the information about the book, including its\n",
    "attributes and the number of available copies."
   ]
  },
  {
   "cell_type": "code",
   "execution_count": 20,
   "id": "89f10c08",
   "metadata": {},
   "outputs": [
    {
     "name": "stdout",
     "output_type": "stream",
     "text": [
      "Title of the book is Atomic Habits author is James Clear ISBN  is 9780735211292 publication year 2018 and no of copies available  0\n"
     ]
    }
   ],
   "source": [
    "class Book:\n",
    "    def __init__(self,title,author,isbn,publication_year,available_copies):\n",
    "        self.title=title\n",
    "        self.author=author\n",
    "        self.isbn=isbn\n",
    "        self.publication_year=publication_year\n",
    "        self.available_copies=available_copies\n",
    "    def check_out(self):\n",
    "        if(self.available_copies>0):\n",
    "            self.available_copies-=1\n",
    "        else:\n",
    "            return 0\n",
    "    def return_book(self):\n",
    "        self.available_copies+=1\n",
    "        \n",
    "    def display_book_info(self):\n",
    "        print(f\"Title of the book is {self.title} author is {self.author} ISBN  is {self.isbn} publication year {self.publication_year} and no of copies available  {self.available_copies}\")\n",
    "            \n",
    "\n",
    "            \n",
    "#object of class\n",
    "book=Book(\"Atomic Habits\",\"James Clear\",\"9780735211292\",\"2018\",1)\n",
    "book.check_out()\n",
    "book.display_book_info()"
   ]
  },
  {
   "cell_type": "markdown",
   "id": "a4df6ced",
   "metadata": {},
   "source": [
    "# 8. For a ticket booking system, you have to design the \"Ticket\" class with OOPprinciples in mind. The “Ticket” class should have the following attributes:\n",
    "a. ticket_id: Represents the unique identifier for the ticket.\n",
    "b. event_name: Represents the name of the event.\n",
    "c. event_date: Represents the date of the event.\n",
    "d. venue: Represents the venue of the event.\n",
    "e. seat_number: Represents the seat number associated with the ticket.\n",
    "f. price: Represents the price of the ticket.\n",
    "g. is_reserved: Represents the reservation status of the ticket.\n",
    "The class also includes the following methods:\n",
    "a. reserve_ticket(self): Marks the ticket as reserved if it is not already reserved.\n",
    "b. cancel_reservation(self): Cancels the reservation of the ticket if it is already\n",
    "reserved.\n",
    "c. display_ticket_info(self): Displays the information about the ticket, including its\n",
    "attributes and reservation status."
   ]
  },
  {
   "cell_type": "code",
   "execution_count": 21,
   "id": "8e7943c7",
   "metadata": {},
   "outputs": [],
   "source": [
    "class Ticket:\n",
    "    def __init__(self,ticket_id,event_name,event_date,venue,seat_number,price,is_reserved):\n",
    "        self.ticket_id=ticket_id\n",
    "        self.event_name=event_name\n",
    "        self.event_date=event_date\n",
    "        self.venue=venue\n",
    "        self.seat_number=seat_number\n",
    "        self.price=price\n",
    "        self.is_reserved=is_reserved\n",
    "        \n",
    "    def reserve_ticket(self):\n",
    "        if not self.is_reserved:\n",
    "            return \"reserved\"\n",
    "    def cancel_reservation(self):\n",
    "        if self.is_reserved:\n",
    "            return \"cancel the reservation\"\n",
    "    \n",
    "    def display_ticket_info(self):\n",
    "        print(f\"Ticket id is {self.ticket_id} ,event name is {self.event_name}, event_date is {self.event_date}, venue of the event is {self.venue}, seat number {self.seat_number}, price of the ticket is  {self.price},reservation status {self.is_reserved}\")"
   ]
  },
  {
   "cell_type": "markdown",
   "id": "0c7fe84a",
   "metadata": {},
   "source": [
    "# 9. You are creating a shopping cart for an e-commerce website. Using OOP to modelthe \"ShoppingCart\" functionality the class should contain following attributes and methods:\n",
    "a. items: Represents the list of items in the shopping cart.\n",
    "The class also includes the following methods:\n",
    "\n",
    "a. add_item(self, item): Adds an item to the shopping cart by appending it to the\n",
    "list of items.\n",
    "b. remove_item(self, item): Removes an item from the shopping cart if it exists in\n",
    "the list.\n",
    "c. view_cart(self): Displays the items currently present in the shopping cart.\n",
    "d. clear_cart(self): Clears all items from the shopping cart by reassigning an\n",
    "empty list to the items attribute."
   ]
  },
  {
   "cell_type": "code",
   "execution_count": 28,
   "id": "7c5b60a6",
   "metadata": {},
   "outputs": [],
   "source": [
    "class ShoppingCart:\n",
    "    def __init__(self,items):\n",
    "        self.items=items\n",
    "        \n",
    "    def add_item(self,item):\n",
    "        self.items.append(item)\n",
    "        return self.items\n",
    "    def remove_item(self,item):\n",
    "        if item in self.items:\n",
    "            self.items.remove(item)\n",
    "        return self.items\n",
    "    def view_cart(self):\n",
    "        print(self.items)\n",
    "        \n",
    "    def clear_cart(self):\n",
    "        self.items=[]\n",
    "        \n",
    "        \n",
    "        "
   ]
  },
  {
   "cell_type": "markdown",
   "id": "2d01ae8d",
   "metadata": {},
   "source": [
    "# 10. Imagine a school management system. You have to design the \"Student\" class usingOOP concepts.The “Student” class has the following attributes:\n",
    "a. name: Represents the name of the student.\n",
    "b. age: Represents the age of the student.\n",
    "c. grade: Represents the grade or class of the student.\n",
    "d. student_id: Represents the unique identifier for the student.\n",
    "e. attendance: Represents the attendance record of the student.\n",
    "The class should also include the following methods:\n",
    "a. update_attendance(self, date, status): Updates the attendance record of the\n",
    "student for a given date with the provided status (e.g., present or absent).\n",
    "b. get_attendance(self): Returns the attendance record of the student.\n",
    "c. get_average_attendance(self): Calculates and returns the average\n",
    "attendance percentage of the student based on their attendance record."
   ]
  },
  {
   "cell_type": "code",
   "execution_count": 30,
   "id": "50bac1d2",
   "metadata": {},
   "outputs": [],
   "source": [
    "class Student:\n",
    "    \n",
    "    def __init__(self,name,age,grade,student_id,attendance):\n",
    "        self.name=name\n",
    "        self.age=age\n",
    "        self.grade=grade\n",
    "        self.student_id=student_id\n",
    "        self.attendance=attendance\n",
    "        \n",
    "    def update_attendance(self,date, status):\n",
    "        if self.status=='present':\n",
    "            self.attendance+=1\n",
    "      \n",
    "    \n",
    "    def get_attendance(self):\n",
    "          return self.attendance\n",
    "    \n",
    "    def get_average_attendance(self):\n",
    "        avg_attendance=(sum(self.attendance)/count(self.attendance))*100\n",
    "        return avg_attendance\n",
    "    \n",
    "    \n",
    "       "
   ]
  }
 ],
 "metadata": {
  "kernelspec": {
   "display_name": "Python 3 (ipykernel)",
   "language": "python",
   "name": "python3"
  },
  "language_info": {
   "codemirror_mode": {
    "name": "ipython",
    "version": 3
   },
   "file_extension": ".py",
   "mimetype": "text/x-python",
   "name": "python",
   "nbconvert_exporter": "python",
   "pygments_lexer": "ipython3",
   "version": "3.10.9"
  }
 },
 "nbformat": 4,
 "nbformat_minor": 5
}
