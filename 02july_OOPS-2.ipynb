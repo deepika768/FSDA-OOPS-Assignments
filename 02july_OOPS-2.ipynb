{
 "cells": [
  {
   "cell_type": "markdown",
   "id": "23657f6d",
   "metadata": {},
   "source": [
    "# 1. Explain what inheritance is in object-oriented programming and why it is used."
   ]
  },
  {
   "cell_type": "markdown",
   "id": "97ab70da",
   "metadata": {},
   "source": [
    "Inheritance is the ability of one class to inherit another class. Inheritance provides reusability of code and allows us to create complex and real-world-like relationships among objects.\n",
    "\n",
    "Use of inheritance:\n",
    "->It represents real-world relationships well.\n",
    "->It provides the reusability of a code. We don’t have to write the same code again and again. Also, it allows us to add more features to a class without modifying it.\n",
    "->It is transitive in nature, which means that if class B inherits from another class A, then all the subclasses of B would automatically inherit from class A.\n",
    "->Inheritance offers a simple, understandable model structure. \n",
    "->Less development and maintenance expenses result from an inheritance. "
   ]
  },
  {
   "cell_type": "markdown",
   "id": "44827f80",
   "metadata": {},
   "source": [
    "# 2. Discuss the concept of single inheritance and multiple inheritance, highlighting theirdifferences and advantages.\n"
   ]
  },
  {
   "cell_type": "markdown",
   "id": "a6733f73",
   "metadata": {},
   "source": [
    "Single Inheritance: Single inheritance is one in which the derived class inherits the single base class either publicly, privately or protectedly. In single inheritance, the derived class uses the features or members of the single base class.\n",
    "#Parent or Base Class\n",
    "class Calculate:\n",
    "    def sum(self, a, b):\n",
    "        print(a + b)\n",
    "\n",
    "#Subclass or Derived Class\n",
    "class Number(Calculate):\n",
    "    pass\n",
    "    \n",
    "Multiple Inheritance:When a child class inherits from multiple parent classes, it is called multiple inheritances.\n",
    "#First Parent Class\n",
    "class First:\n",
    "    def __init__(self):\n",
    "        self.greet = \"Hello\"\n",
    "\n",
    "#Second Parent Class\n",
    "class Second:\n",
    "    def __init__(self):\n",
    "        self.name = \"Geeks\"\n",
    "\n",
    "#Child or Derived Class\n",
    "class Child(First, Second):\n",
    "    def __init__(self):\n",
    "        First.__init__(self)\n",
    "        Second.__init__(self)\n",
    "\n",
    "    def combine(self):\n",
    "        print(self.greet, self.name)\n",
    "        print(\"Welcome to GeekPython.\")\n",
    "\n",
    "obj = Child()\n",
    "obj.combine()"
   ]
  },
  {
   "cell_type": "markdown",
   "id": "1f133b60",
   "metadata": {},
   "source": [
    "# 3.Explain the terms \"base class\" and \"derived class\" in the context of inheritance"
   ]
  },
  {
   "cell_type": "markdown",
   "id": "f17de6d0",
   "metadata": {},
   "source": [
    "Base Class: A base class is a class in Object-Oriented Programming language, from which other classes are derived. The class which inherits the base class has all members of a base class as well as can also have some additional properties. The Base class members and member functions are inherited to Object of the derived class. A base class is also called parent class or superclass.\n",
    "Derived Class: A class that is created from an existing class. The derived class inherits all members and member functions of a base class. The derived class can have more functionality with respect to the Base class and can easily access the Base class. A Derived class is also called a child class or subclass."
   ]
  },
  {
   "cell_type": "markdown",
   "id": "31e0be88",
   "metadata": {},
   "source": [
    "# 4-What is the significance of the \"protected\" access modifier in inheritance? How doesit differ from \"private\" and \"public\" modifiers?"
   ]
  },
  {
   "cell_type": "markdown",
   "id": "26f2bf8a",
   "metadata": {},
   "source": [
    "Protected Access Modifier:\n",
    "The members of a class that are declared protected are only accessible to a class derived from it. Data members of a class are declared protected by adding a single underscore ‘_’ symbol ater the data member of that class."
   ]
  },
  {
   "cell_type": "markdown",
   "id": "1c0a1f36",
   "metadata": {},
   "source": [
    "# 5-What is the purpose of the \"super\" keyword in inheritance? Provide an example"
   ]
  },
  {
   "cell_type": "markdown",
   "id": "42c789b3",
   "metadata": {},
   "source": [
    "super() provides the access to those methods of the super-class (parent class) which have been overridden in a sub-class (child class) that inherits from it.\n",
    "\n",
    "class Square:\n",
    "     def __init__(self, side):\n",
    "         self.side = side\n",
    " \n",
    "     def area(self):\n",
    "         return self.side * self.side\n",
    " \n",
    "class Cube(Square):\n",
    "     def area(self):\n",
    "         return super().area() * 6\n",
    " \n",
    "     def volume(self):\n",
    "         return super().area() * self.side()"
   ]
  },
  {
   "cell_type": "markdown",
   "id": "a3fd715b",
   "metadata": {},
   "source": [
    "# 6-Create a base class called \"Vehicle\" with attributes like \"make\", \"model\", and \"year\".Then, create a derived class called \"Car\" that inherits from \"Vehicle\" and adds anattribute called \"fuel_type\". Implement appropriate methods in both classes.\n"
   ]
  },
  {
   "cell_type": "code",
   "execution_count": 34,
   "id": "e5e158ed",
   "metadata": {},
   "outputs": [
    {
     "name": "stdout",
     "output_type": "stream",
     "text": [
      "make : racing, model : ev, year : ev\n",
      "fuel_type is petrol\n"
     ]
    }
   ],
   "source": [
    "class Vehicle:\n",
    "    def __init__(self,make,model,year):\n",
    "        self.make=make\n",
    "        self.model=model\n",
    "        self.year=year\n",
    "    def display(self):\n",
    "        print(f\"make : {self.make}, model : {self.model}, year : {self.model}\")\n",
    "\n",
    "        \n",
    "class Car(Vehicle):\n",
    "    def __init__(self,make,model,year,fuel_type):\n",
    "        super().__init__(make,model,year)\n",
    "        self.fuel_type=fuel_type\n",
    "    def display(self):\n",
    "        super().display() \n",
    "        print(f\"fuel_type is {self.fuel_type}\")\n",
    "\n",
    "car=Car(\"racing\",\"ev\",\"1916\",\"petrol\")\n",
    "car.display()\n"
   ]
  },
  {
   "cell_type": "markdown",
   "id": "d9f026f1",
   "metadata": {},
   "source": [
    "# 7. Create a base class called \"Employee\" with attributes like \"name\" and \"salary.\"Derive two classes, \"Manager\" and \"Developer,\" from \"Employee.\" Add an additionalattribute called \"department\" for the \"Manager\" class and \"programming_language\"for the \"Developer\" class.\n"
   ]
  },
  {
   "cell_type": "code",
   "execution_count": 13,
   "id": "36a4be90",
   "metadata": {},
   "outputs": [],
   "source": [
    "class Employee:\n",
    "    def __init__(self,name,salary):\n",
    "        self.name=name\n",
    "        self.salary=salary\n",
    "        \n",
    "    def display(self):\n",
    "        print(f\"Name is {self.name} and salary is {self.salary}\")\n",
    "        \n",
    "class Manager(Employee):\n",
    "    def __init__(self, name,salary,department):\n",
    "        super().__init__(name)\n",
    "        super().__init__(salary)\n",
    "        self.department=department\n",
    "        \n",
    "    def display(self):\n",
    "        super().display()\n",
    "        print(f\"Department is{self.department}\")\n",
    "        \n",
    "class Manager(Employee):\n",
    "    def __init__(self,name, salary, programming_language):\n",
    "        super.__init__(name)\n",
    "        super.__init__(salary)\n",
    "        self.programming_language=programming_language\n",
    "        \n",
    "    def display(self):\n",
    "        super.display()\n",
    "        print(f\"Programming langauge is {self.programming_language}\")"
   ]
  },
  {
   "cell_type": "markdown",
   "id": "1d61d2ae",
   "metadata": {},
   "source": [
    "# 8-Design a base class called \"Shape\" with attributes like \"colour\" and \"border_width.\"Create derived classes, \"Rectangle\" and \"Circle,\" that inherit from \"Shape\" and addspecific attributes like \"length\" and \"width\" for the \"Rectangle\" class and \"radius\" forthe \"Circle\" class."
   ]
  },
  {
   "cell_type": "code",
   "execution_count": 28,
   "id": "b5901222",
   "metadata": {},
   "outputs": [],
   "source": [
    "class Shape:\n",
    "    def __init__(self,colour,border_width):\n",
    "        self.colour=colour\n",
    "        self.border_width=border_width\n",
    "        \n",
    "    def display_info(self):\n",
    "        print(f\"colour is {self.colour} ,border width is {self.border_width}\")\n",
    "        \n",
    "class Rectangle(Shape):\n",
    "    def __init__(self,colour,border_width,length,width):\n",
    "        super().__init__(colour,border_width)\n",
    "        self.length=length\n",
    "        self.width=width\n",
    "    def display(self):\n",
    "        super().display_info()\n",
    "        print(f\"length is {self.length} and width is {self.width}\")\n",
    "        \n",
    "        \n",
    "class Circle(Shape):\n",
    "    def __init__(self,colour,border_width,radius):\n",
    "        super().__init__(colour,border_width)\n",
    "        self.radius=radius\n",
    "        \n",
    "    def display(self):\n",
    "        super().display_info()\n",
    "        print(f\"radius is {self.radius}\")\n",
    "        "
   ]
  },
  {
   "cell_type": "code",
   "execution_count": 29,
   "id": "75282421",
   "metadata": {},
   "outputs": [
    {
     "name": "stdout",
     "output_type": "stream",
     "text": [
      "Rectangle info: \n",
      "colour is blue ,border width is 2\n",
      "length is 4 and width is 5\n",
      "Circle info: \n",
      "colour is red ,border width is 1\n",
      "radius is 4\n"
     ]
    }
   ],
   "source": [
    "#object creation\n",
    "obj=Rectangle(\"blue\",2,4,5)\n",
    "obj2=Circle(\"red\",1,4)\n",
    "\n",
    "print(\"Rectangle info: \")\n",
    "obj.display()\n",
    "\n",
    "print('Circle info: ')\n",
    "obj2.display()"
   ]
  },
  {
   "cell_type": "markdown",
   "id": "e82fc615",
   "metadata": {},
   "source": [
    "# 9-Create a base class called \"Device\" with attributes like \"brand\" and \"model.\" Derivetwo classes, \"Phone\" and \"Tablet,\" from \"Device.\" Add specific attributes like\"screen_size\" for the \"Phone\" class and \"battery_capacity\" for the \"Tablet\" class.\n"
   ]
  },
  {
   "cell_type": "code",
   "execution_count": 20,
   "id": "83c0911b",
   "metadata": {},
   "outputs": [
    {
     "name": "stdout",
     "output_type": "stream",
     "text": [
      "Phone Information:\n",
      "Brand: Apple\n",
      "Model: iPhone 12\n",
      "Screen Size: 6.1 inches\n",
      "\n",
      "Tablet Information:\n",
      "Brand: Samsung\n",
      "Model: Galaxy Tab S7\n",
      "Battery Capacity: 8000 mAh\n"
     ]
    }
   ],
   "source": [
    "class Device:\n",
    "    def __init__(self, brand, model):\n",
    "        self.brand = brand\n",
    "        self.model = model\n",
    "\n",
    "    def display_info(self):\n",
    "        print(\"Brand:\", self.brand)\n",
    "        print(\"Model:\", self.model)\n",
    "\n",
    "\n",
    "class Phone(Device):\n",
    "    def __init__(self, brand, model, screen_size):\n",
    "        super().__init__(brand, model)\n",
    "        self.screen_size = screen_size\n",
    "\n",
    "    def display_info(self):\n",
    "        super().display_info()\n",
    "        print(\"Screen Size:\", self.screen_size)\n",
    "\n",
    "\n",
    "class Tablet(Device):\n",
    "    def __init__(self, brand, model, battery_capacity):\n",
    "        super().__init__(brand, model)\n",
    "        self.battery_capacity = battery_capacity\n",
    "\n",
    "    def display_info(self):\n",
    "        super().display_info()\n",
    "        print(\"Battery Capacity:\", self.battery_capacity)\n",
    "\n",
    "\n",
    "# Create objects and call methods\n",
    "my_phone = Phone(\"Apple\", \"iPhone 12\", \"6.1 inches\")\n",
    "my_tablet = Tablet(\"Samsung\", \"Galaxy Tab S7\", \"8000 mAh\")\n",
    "\n",
    "print(\"Phone Information:\")\n",
    "my_phone.display_info()\n",
    "print(\"\\nTablet Information:\")\n",
    "my_tablet.display_info()\n",
    "        \n",
    "        "
   ]
  },
  {
   "cell_type": "markdown",
   "id": "2c024c81",
   "metadata": {},
   "source": [
    "# 10.Create a base class called \"BankAccount\" with attributes like \"account_number\" and\"balance.\" Derive two classes, \"SavingsAccount\" and \"CheckingAccount,\" from\"BankAccount.\" Add specific methods like \"calculate_interest\" for the\"SavingsAccount\" class and \"deduct_fees\" for the \"CheckingAccount\" class."
   ]
  },
  {
   "cell_type": "code",
   "execution_count": 36,
   "id": "ea09f549",
   "metadata": {},
   "outputs": [
    {
     "name": "stdout",
     "output_type": "stream",
     "text": [
      "Account_number is 349920 ,balance is 30000\n",
      "calculated interest 20000\n",
      "Account_number is 349920 ,balance is 30000\n",
      "deducted fees  25000\n"
     ]
    }
   ],
   "source": [
    "class BankAccount:\n",
    "    def __init__(self,account_number,balance):\n",
    "        self.account_number=account_number\n",
    "        self.balance=balance\n",
    "        \n",
    "    def display(self):\n",
    "        print(f\"Account_number is {self.account_number} ,balance is {self.balance}\")\n",
    "        \n",
    "class SavingsAccount(BankAccount):\n",
    "    def __init__(self,account_number,balance,calculate_interest):\n",
    "        super().__init__(account_number,balance)\n",
    "        self.calculate_interest=calculate_interest\n",
    "    \n",
    "    def display(self):\n",
    "        super().display()\n",
    "        print(f\"calculated interest {self.calculate_interest}\")\n",
    "        \n",
    "class CheckingAccount(BankAccount):\n",
    "    def __init__(self,account_number,balance,deduct_fees):\n",
    "        super().__init__(account_number,balance)\n",
    "        self.deduct_fees=deduct_fees\n",
    "    \n",
    "    def display(self):\n",
    "        super().display()\n",
    "        print(f\"deducted fees  {self.deduct_fees}\")\n",
    "        \n",
    "# Create objects and call methods\n",
    "saving_account=SavingsAccount(349920,30000,20000)\n",
    "checking_account =CheckingAccount(349920, 30000,25000)\n",
    "\n",
    "saving_account.display()\n",
    "\n",
    "checking_account.display()\n",
    "        \n",
    "        \n",
    "              "
   ]
  },
  {
   "cell_type": "code",
   "execution_count": null,
   "id": "551b4e68",
   "metadata": {},
   "outputs": [],
   "source": []
  }
 ],
 "metadata": {
  "kernelspec": {
   "display_name": "Python 3 (ipykernel)",
   "language": "python",
   "name": "python3"
  },
  "language_info": {
   "codemirror_mode": {
    "name": "ipython",
    "version": 3
   },
   "file_extension": ".py",
   "mimetype": "text/x-python",
   "name": "python",
   "nbconvert_exporter": "python",
   "pygments_lexer": "ipython3",
   "version": "3.10.9"
  }
 },
 "nbformat": 4,
 "nbformat_minor": 5
}
